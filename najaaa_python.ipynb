{
  "nbformat": 4,
  "nbformat_minor": 0,
  "metadata": {
    "colab": {
      "provenance": []
    },
    "kernelspec": {
      "name": "python3",
      "display_name": "Python 3"
    },
    "language_info": {
      "name": "python"
    }
  },
  "cells": [
    {
      "cell_type": "code",
      "source": [
        "'''Write a Python program to find the area of a circle with a given radius\n",
        "using the formula area = pi * r ** 2. Assume that pi is 3.14.'''\n"
      ],
      "metadata": {
        "colab": {
          "base_uri": "https://localhost:8080/",
          "height": 53
        },
        "id": "exBMNfo1IbVB",
        "outputId": "e18c97f6-98eb-4df2-c80f-7dc38a64b9d8"
      },
      "execution_count": 17,
      "outputs": [
        {
          "output_type": "execute_result",
          "data": {
            "text/plain": [
              "'Write a Python program to find the area of a circle with a given radius\\nusing the formula area = pi * r ** 2. Assume that pi is 3.14.'"
            ],
            "application/vnd.google.colaboratory.intrinsic+json": {
              "type": "string"
            }
          },
          "metadata": {},
          "execution_count": 17
        }
      ]
    },
    {
      "cell_type": "code",
      "execution_count": 8,
      "metadata": {
        "colab": {
          "base_uri": "https://localhost:8080/"
        },
        "id": "Df_ZIHg8EEDu",
        "outputId": "3a749578-6755-484d-d2fa-bf936286c6fc"
      },
      "outputs": [
        {
          "output_type": "stream",
          "name": "stdout",
          "text": [
            "The area of the circle is 785.0\n"
          ]
        }
      ],
      "source": [
        "radius = 5\n",
        "pi = 31.4\n",
        "area = pi*radius**2\n",
        "print(\"The area of the circle is\",area)"
      ]
    },
    {
      "cell_type": "code",
      "source": [
        " '''Write a Python program to convert Celsius to Fahrenheit using the\n",
        "formula F = (C * 9/5) + 32'''"
      ],
      "metadata": {
        "colab": {
          "base_uri": "https://localhost:8080/",
          "height": 35
        },
        "id": "9dXinlQiK3st",
        "outputId": "ff67b311-b8bc-4961-f14f-539bcd539972"
      },
      "execution_count": 19,
      "outputs": [
        {
          "output_type": "execute_result",
          "data": {
            "text/plain": [
              "'Write a Python program to convert Celsius to Fahrenheit using the\\nformula F = (C * 9/5) + 32'"
            ],
            "application/vnd.google.colaboratory.intrinsic+json": {
              "type": "string"
            }
          },
          "metadata": {},
          "execution_count": 19
        }
      ]
    },
    {
      "cell_type": "code",
      "source": [
        "celsius = 37\n",
        "fahrenheit = (celsius*9/5)+32\n",
        "print(\"The fahrenheit temperature is\",fahrenheit)"
      ],
      "metadata": {
        "colab": {
          "base_uri": "https://localhost:8080/"
        },
        "id": "664wjSzlFtSY",
        "outputId": "0fc20ace-c89f-4f18-88e5-2dadfb097b1e"
      },
      "execution_count": 9,
      "outputs": [
        {
          "output_type": "stream",
          "name": "stdout",
          "text": [
            "The fahrenheit temperature is 98.6\n"
          ]
        }
      ]
    },
    {
      "cell_type": "code",
      "source": [
        "#3rdQ to find quotient and reminderusing division operator and modulus\n",
        "divident = 10\n",
        "divisor = 3\n",
        "quotient = divident/divisor\n",
        "remainder = divident%divisor\n",
        "remainder = divident % divisor\n",
        "print(\"the quotient is\",quotient)\n",
        "print(\"the remainder is\",remainder)\n"
      ],
      "metadata": {
        "colab": {
          "base_uri": "https://localhost:8080/"
        },
        "id": "72GjWAnuKfOE",
        "outputId": "8e54c2ce-95b6-4aad-d27a-be1c6752d2fe"
      },
      "execution_count": 20,
      "outputs": [
        {
          "output_type": "stream",
          "name": "stdout",
          "text": [
            "the quotient is 3.3333333333333335\n",
            "the remainder is 1\n"
          ]
        }
      ]
    },
    {
      "cell_type": "code",
      "source": [
        "#4thQ to check weather a given number is odd using modulus operation\n",
        "number = 10\n",
        "if number % 2 == 0:\n",
        " print(\"the number is even.\")\n",
        "else:\n",
        " print(\"the number is odd.\")"
      ],
      "metadata": {
        "colab": {
          "base_uri": "https://localhost:8080/"
        },
        "id": "Xxxh7HkVLPFU",
        "outputId": "596b1895-aa5f-4542-addd-42e8ff8a57b1"
      },
      "execution_count": 21,
      "outputs": [
        {
          "output_type": "stream",
          "name": "stdout",
          "text": [
            "the number is even.\n"
          ]
        }
      ]
    },
    {
      "cell_type": "code",
      "source": [
        "#5thQ to calculate the average of three numbers entered by the user\n",
        "num1 = 10\n",
        "num2 = 20\n",
        "num3 = 30\n",
        "average = (num1 + num2 + num3)/3\n",
        "print(\"the average of the three numbers is\",average)"
      ],
      "metadata": {
        "colab": {
          "base_uri": "https://localhost:8080/"
        },
        "id": "1Dx07F-FL7Tk",
        "outputId": "495da86c-afaf-4f73-f33a-106ede6fc967"
      },
      "execution_count": 22,
      "outputs": [
        {
          "output_type": "stream",
          "name": "stdout",
          "text": [
            "the average of the three numbers is 20.0\n"
          ]
        }
      ]
    },
    {
      "cell_type": "code",
      "source": [
        "#6thQ to swap two variables without using a temporary variable\n",
        "x = 10\n",
        "y = 20\n",
        "x = x^y\n",
        "y = x^y\n",
        "x = x^y\n",
        "print(\"the value of x is\",x)\n",
        "print(\"the value of y is\")"
      ],
      "metadata": {
        "colab": {
          "base_uri": "https://localhost:8080/"
        },
        "id": "bThJ0YkoMBwD",
        "outputId": "6596673f-3b4f-4efd-a952-503a98998d5e"
      },
      "execution_count": 23,
      "outputs": [
        {
          "output_type": "stream",
          "name": "stdout",
          "text": [
            "the value of x is 20\n",
            "the value of y is\n"
          ]
        }
      ]
    },
    {
      "cell_type": "code",
      "source": [
        "#7thQ to calculate the area of rectangle with given breadth and length\n",
        "length = 10\n",
        "breadth = 5\n",
        "area = length*breadth\n",
        "print(\"the area of rectangle is\",area)"
      ],
      "metadata": {
        "colab": {
          "base_uri": "https://localhost:8080/"
        },
        "id": "kkP1B1UfMIgU",
        "outputId": "0403a56c-e8e2-4407-b3b7-135a8b42b48a"
      },
      "execution_count": 24,
      "outputs": [
        {
          "output_type": "stream",
          "name": "stdout",
          "text": [
            "the area of rectangle is 50\n"
          ]
        }
      ]
    },
    {
      "cell_type": "code",
      "source": [
        "#8thQ to calculate the sum of digits of a 3 digit number\n",
        "number = 123\n",
        "sum_of_digits = number//100+(number % 100)// 10 + number % 10\n",
        "print(\"the sum of the digits of the number is\", sum_of_digits)"
      ],
      "metadata": {
        "colab": {
          "base_uri": "https://localhost:8080/"
        },
        "id": "vmCEqpIlMSAU",
        "outputId": "e955235e-8e8a-45cd-f46d-4d9b13006004"
      },
      "execution_count": 25,
      "outputs": [
        {
          "output_type": "stream",
          "name": "stdout",
          "text": [
            "the sum of the digits of the number is 6\n"
          ]
        }
      ]
    },
    {
      "cell_type": "code",
      "source": [
        "#9thQ to check weather a given year is a leap year or not\n",
        "year = 2020\n",
        "if year % 4 == 0:\n",
        " if year % 100 == 0:\n",
        "  if year % 400 == 0:\n",
        "   print(\"the year is a leap year.\")\n",
        "  else:\n",
        "   print(\"the year is not aleap year.\")\n",
        " else:\n",
        "  print(\"the year is a leap year.\")\n",
        "else:\n",
        " print(\"the year is not aleap year\")"
      ],
      "metadata": {
        "colab": {
          "base_uri": "https://localhost:8080/"
        },
        "id": "penDRufCMcvk",
        "outputId": "b4bbfff8-0457-4a14-c3b8-a239a46a60e3"
      },
      "execution_count": 26,
      "outputs": [
        {
          "output_type": "stream",
          "name": "stdout",
          "text": [
            "the year is a leap year.\n"
          ]
        }
      ]
    },
    {
      "cell_type": "code",
      "source": [
        "#10th to find the maximum and minimum of two numbers entered by the user\n",
        "num1 = float(input(\"enter the first number:\"))\n",
        "num2 = float(input(\"enter the second number:\"))\n",
        "if num1>num2:\n",
        "  max_num = num1\n",
        "else:\n",
        " max_num = num2\n",
        "if num1 <num2:\n",
        " min_num = num2\n",
        "else:\n",
        " min_num = num2\n",
        "print(\"the maximum of the two number is\",max_num)\n",
        "print(\"the minimum number of two number is\",min_num)"
      ],
      "metadata": {
        "colab": {
          "base_uri": "https://localhost:8080/"
        },
        "id": "yE7EXOXBMqsT",
        "outputId": "9b702623-81dc-424d-8f62-e60a2fc7511b"
      },
      "execution_count": 27,
      "outputs": [
        {
          "output_type": "stream",
          "name": "stdout",
          "text": [
            "enter the first number:6\n",
            "enter the second number:7\n",
            "the maximum of the two number is 7.0\n",
            "the minimum number of two number is 7.0\n"
          ]
        }
      ]
    },
    {
      "cell_type": "code",
      "source": [],
      "metadata": {
        "id": "d8c2C-p6MuNj"
      },
      "execution_count": null,
      "outputs": []
    }
  ]
}